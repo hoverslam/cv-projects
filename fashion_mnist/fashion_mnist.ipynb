{
 "cells": [
  {
   "cell_type": "code",
   "execution_count": 1,
   "metadata": {},
   "outputs": [],
   "source": [
    "import matplotlib.pyplot as plt\n",
    "from matplotlib.ticker import MaxNLocator\n",
    "\n",
    "import torch\n",
    "from torch import nn\n",
    "from torchvision.datasets import FashionMNIST\n",
    "from torchvision import transforms\n",
    "from torch.utils.data import DataLoader, random_split\n",
    "\n",
    "%matplotlib inline"
   ]
  },
  {
   "cell_type": "code",
   "execution_count": 2,
   "metadata": {},
   "outputs": [],
   "source": [
    "rng = torch.Generator().manual_seed(42)"
   ]
  },
  {
   "cell_type": "code",
   "execution_count": 3,
   "metadata": {},
   "outputs": [],
   "source": [
    "BATCH_SIZE = 128"
   ]
  },
  {
   "attachments": {},
   "cell_type": "markdown",
   "metadata": {},
   "source": [
    "# Helper functions"
   ]
  },
  {
   "cell_type": "code",
   "execution_count": 4,
   "metadata": {},
   "outputs": [],
   "source": [
    "def plot_training(history: dict) -> None:\n",
    "    \"\"\"Plot the training losses.\n",
    "\n",
    "    Args:\n",
    "        history (dict): Dictionary ontaining test and validation loss for each epoch.\n",
    "    \"\"\"\n",
    "    fig, ax = plt.subplots()\n",
    "    ax.plot(history[\"epoch\"], history[\"train_loss\"], label=\"train_loss\")\n",
    "    ax.plot(history[\"epoch\"], history[\"val_loss\"], label=\"val_loss\")\n",
    "\n",
    "    ax.set_title(\"Training\")\n",
    "    ax.set_xlabel(\"Epoch\")\n",
    "    ax.set_ylabel(\"loss\")    \n",
    "    ax.xaxis.set_major_locator(MaxNLocator(integer=True))\n",
    "    \n",
    "    ax.legend()\n",
    "    plt.show()"
   ]
  },
  {
   "attachments": {},
   "cell_type": "markdown",
   "metadata": {},
   "source": [
    "# Download and prepare data"
   ]
  },
  {
   "cell_type": "code",
   "execution_count": 5,
   "metadata": {},
   "outputs": [],
   "source": [
    "# Download train and test set\n",
    "train = FashionMNIST(\"data\", train=True, download=True, transform=transforms.ToTensor())\n",
    "test = FashionMNIST(\"data\", train=False, download=True, transform=transforms.ToTensor())\n",
    "\n",
    "# Seperate validation set\n",
    "train, val = random_split(train, [0.8, 0.2], generator=rng)"
   ]
  },
  {
   "cell_type": "code",
   "execution_count": 6,
   "metadata": {},
   "outputs": [],
   "source": [
    "train_loader = DataLoader(train, BATCH_SIZE, shuffle=True, generator=rng)\n",
    "val_loader = DataLoader(val, BATCH_SIZE)\n",
    "test_loader = DataLoader(test, BATCH_SIZE)"
   ]
  },
  {
   "cell_type": "code",
   "execution_count": 7,
   "metadata": {},
   "outputs": [],
   "source": [
    "class_names = [\n",
    "    \"T-shirt/top\",\n",
    "    \"Trouser\",\n",
    "    \"Pullover\",\n",
    "    \"Dress\",\n",
    "    \"Coat\",\n",
    "    \"Sandal\",\n",
    "    \"Shirt\",\n",
    "    \"Sneaker\",\n",
    "    \"Bag\",\n",
    "    \"Ankle boot\"\n",
    "]"
   ]
  },
  {
   "cell_type": "code",
   "execution_count": 44,
   "metadata": {},
   "outputs": [
    {
     "name": "stdout",
     "output_type": "stream",
     "text": [
      "Pullover\n"
     ]
    },
    {
     "data": {
      "image/png": "[encoded data removed]",
      "text/plain": [
       "<Figure size 640x480 with 1 Axes>"
      ]
     },
     "metadata": {},
     "output_type": "display_data"
    }
   ],
   "source": [
    "# Plot random observation and its class\n",
    "idx = torch.randint(0, len(train_loader), (1, ))\n",
    "X, y = train_loader.dataset[idx]\n",
    "print(class_names[y])\n",
    "plt.imshow(torch.squeeze(X, dim=0), cmap=\"gray\");"
   ]
  },
  {
   "attachments": {},
   "cell_type": "markdown",
   "metadata": {},
   "source": [
    "# Multi Layer Perceptron"
   ]
  },
  {
   "cell_type": "code",
   "execution_count": 9,
   "metadata": {},
   "outputs": [],
   "source": [
    "class MultiLayerPerceptron(nn.Module):\n",
    "    \"\"\"A fully-connected feedforward neural network with two hidden layer.\n",
    "    \"\"\"\n",
    "\n",
    "    def __init__(self, hidden_dims: tuple[int, int]) -> None:\n",
    "        \"\"\"Initialize MLP.\n",
    "\n",
    "        Args:\n",
    "            hidden_dims (tuple[int, int]): Number of neurons for each hidden layer.\n",
    "        \"\"\"\n",
    "        super().__init__()\n",
    "        self.layers = nn.Sequential(\n",
    "            nn.Flatten(),\n",
    "            nn.Linear(28*28, hidden_dims[0]),\n",
    "            nn.ReLU(),\n",
    "            nn.Linear(hidden_dims[0], hidden_dims[1]),\n",
    "            nn.ReLU(),\n",
    "            nn.Linear(hidden_dims[1], 10)\n",
    "        )\n",
    "\n",
    "    def forward(self, x: torch.Tensor) -> torch.Tensor:\n",
    "        \"\"\"Make a single forward pass for a given input.\n",
    "\n",
    "        Args:\n",
    "            x (torch.Tensor): Input features\n",
    "\n",
    "        Returns:\n",
    "            torch.Tensor: Logits\n",
    "        \"\"\"\n",
    "        return self.layers(x)"
   ]
  },
  {
   "cell_type": "code",
   "execution_count": 10,
   "metadata": {},
   "outputs": [],
   "source": [
    "class FashionMLP():\n",
    "    \"\"\"A model made for the Fashion MNIST data set.\n",
    "    \"\"\"\n",
    "\n",
    "    def __init__(self, hidden_dims: tuple[int, int]) -> None:\n",
    "        \"\"\"Initialize model.\n",
    "\n",
    "        Args:\n",
    "            hidden_dims (tuple[int, int]): Number of neurons for each hidden layer.\n",
    "        \"\"\"\n",
    "        self.device = \"cuda\" if torch.cuda.is_available() else \"cpu\"\n",
    "        self.model = MultiLayerPerceptron(hidden_dims)\n",
    "        self.model.to(self.device)        \n",
    "        self.criterion = nn.CrossEntropyLoss()\n",
    "        self.optimizer = torch.optim.Adam(self.model.parameters(), lr=1e-3)      \n",
    "\n",
    "    def train(self, train_data: DataLoader, val_data: DataLoader, epochs: int) -> dict:\n",
    "        \"\"\"Train model.\n",
    "\n",
    "        Args:\n",
    "            train_data (DataLoader): Training set.\n",
    "            val_data (DataLoader): Hold-out validation set.\n",
    "            epochs (int): Number of epochs.\n",
    "\n",
    "        Returns:\n",
    "            dict: Training loss, validation loss, and validation accuracy for each epoch.\n",
    "        \"\"\"\n",
    "        history = {\"epoch\": [], \"train_loss\": [], \"val_loss\": [], \"val_accuracy\": []} \n",
    "\n",
    "        for t in range(epochs):\n",
    "            # Training loop\n",
    "            self.model.train()\n",
    "            num_batches = len(train_data)\n",
    "            train_loss = 0\n",
    "            for X, y in train_data:\n",
    "                X, y = X.to(self.device), y.to(self.device)\n",
    "\n",
    "                # Forward pass\n",
    "                logits = self.model(X)\n",
    "                probs = nn.Softmax(dim=1)(logits)\n",
    "                loss = self.criterion(probs, y)\n",
    "                train_loss += loss\n",
    "\n",
    "                # Backpropagation\n",
    "                self.optimizer.zero_grad()\n",
    "                loss.backward()\n",
    "                self.optimizer.step()\n",
    "\n",
    "            # Compute average train loss over all batches\n",
    "            train_loss /= num_batches\n",
    "\n",
    "            # Compute validation loss and accuracy\n",
    "            val_loss, val_accuracy = self.test(val_data)\n",
    "\n",
    "            print(f\"Epoch {t+1:>2d}/{epochs}: {train_loss=:.6f}, {val_loss=:.6f}, {val_accuracy=:.4f}\")\n",
    "\n",
    "            # Save epoch stats\n",
    "            history[\"epoch\"].append(t+1)\n",
    "            history[\"train_loss\"].append(train_loss.item())\n",
    "            history[\"val_loss\"].append(val_loss.item())\n",
    "            history[\"val_accuracy\"].append(val_accuracy.item())\n",
    "            \n",
    "        return history\n",
    "\n",
    "    def test(self, data: DataLoader) -> tuple[torch.Tensor, torch.Tensor]:\n",
    "        \"\"\"Compute loss and accuracy for a given set of data.\n",
    "\n",
    "        Args:\n",
    "            data (DataLoader): Inputs, targets.\n",
    "\n",
    "        Returns:\n",
    "            tuple[torch.Tensor, torch.Tensor]: Loss and accuracy. \n",
    "        \"\"\"\n",
    "        self.model.eval()     \n",
    "        loss, correct = 0, 0\n",
    "        with torch.no_grad():\n",
    "            for X, y in data:\n",
    "                X, y = X.to(self.device), y.to(self.device)\n",
    "                    \n",
    "                logits = self.model(X)\n",
    "                probs = nn.Softmax(dim=1)(logits)\n",
    "                pred = torch.argmax(probs, dim=1)\n",
    "\n",
    "                loss += self.criterion(probs, y)\n",
    "                correct += (pred == y).type(torch.float).sum()\n",
    "        \n",
    "        loss /= len(data)\n",
    "        accuracy = correct / len(data.dataset)\n",
    "\n",
    "        return loss, accuracy\n",
    "\n",
    "    def predict(self, X: torch.Tensor) -> tuple[torch.Tensor, torch.Tensor]:\n",
    "        \"\"\"Make predictions for the given input features.\n",
    "\n",
    "        Args:\n",
    "            X (torch.Tensor): Features.\n",
    "\n",
    "        Returns:\n",
    "            tuple[torch.Tensor, torch.Tensor]: Prediction of classes and the corresponding probability distributions.\n",
    "        \"\"\"\n",
    "        self.model.eval()\n",
    "        with torch.no_grad():\n",
    "            X = X.to(self.device)\n",
    "            logits = self.model(X)\n",
    "            probs = nn.Softmax(dim=1)(logits)\n",
    "            pred = torch.argmax(probs, dim=1)\n",
    "        \n",
    "        return pred, probs"
   ]
  },
  {
   "cell_type": "code",
   "execution_count": 11,
   "metadata": {},
   "outputs": [
    {
     "name": "stdout",
     "output_type": "stream",
     "text": [
      "Epoch  1/50: train_loss=1.699833, val_loss=1.657314, val_accuracy=0.8043\n",
      "Epoch  2/50: train_loss=1.632700, val_loss=1.621090, val_accuracy=0.8413\n",
      "Epoch  3/50: train_loss=1.621109, val_loss=1.620830, val_accuracy=0.8403\n",
      "Epoch  4/50: train_loss=1.615573, val_loss=1.605930, val_accuracy=0.8541\n",
      "Epoch  5/50: train_loss=1.609713, val_loss=1.610941, val_accuracy=0.8503\n",
      "Epoch  6/50: train_loss=1.606081, val_loss=1.601931, val_accuracy=0.8580\n",
      "Epoch  7/50: train_loss=1.603012, val_loss=1.606270, val_accuracy=0.8554\n",
      "Epoch  8/50: train_loss=1.599447, val_loss=1.599490, val_accuracy=0.8607\n",
      "Epoch  9/50: train_loss=1.599478, val_loss=1.599923, val_accuracy=0.8614\n",
      "Epoch 10/50: train_loss=1.595617, val_loss=1.604447, val_accuracy=0.8563\n",
      "Epoch 11/50: train_loss=1.590470, val_loss=1.611671, val_accuracy=0.8487\n",
      "Epoch 12/50: train_loss=1.588719, val_loss=1.607986, val_accuracy=0.8532\n",
      "Epoch 13/50: train_loss=1.590783, val_loss=1.617735, val_accuracy=0.8425\n",
      "Epoch 14/50: train_loss=1.587520, val_loss=1.594284, val_accuracy=0.8669\n",
      "Epoch 15/50: train_loss=1.585382, val_loss=1.597660, val_accuracy=0.8633\n",
      "Epoch 16/50: train_loss=1.582722, val_loss=1.590602, val_accuracy=0.8701\n",
      "Epoch 17/50: train_loss=1.580535, val_loss=1.586684, val_accuracy=0.8737\n",
      "Epoch 18/50: train_loss=1.582380, val_loss=1.588277, val_accuracy=0.8728\n",
      "Epoch 19/50: train_loss=1.581563, val_loss=1.586777, val_accuracy=0.8736\n",
      "Epoch 20/50: train_loss=1.580465, val_loss=1.597020, val_accuracy=0.8639\n",
      "Epoch 21/50: train_loss=1.580684, val_loss=1.584429, val_accuracy=0.8761\n",
      "Epoch 22/50: train_loss=1.579938, val_loss=1.588363, val_accuracy=0.8717\n",
      "Epoch 23/50: train_loss=1.577766, val_loss=1.597068, val_accuracy=0.8640\n",
      "Epoch 24/50: train_loss=1.582370, val_loss=1.584883, val_accuracy=0.8762\n",
      "Epoch 25/50: train_loss=1.576258, val_loss=1.588837, val_accuracy=0.8717\n",
      "Epoch 26/50: train_loss=1.577240, val_loss=1.585711, val_accuracy=0.8745\n",
      "Epoch 27/50: train_loss=1.572599, val_loss=1.591885, val_accuracy=0.8689\n",
      "Epoch 28/50: train_loss=1.576512, val_loss=1.592940, val_accuracy=0.8679\n",
      "Epoch 29/50: train_loss=1.574607, val_loss=1.586144, val_accuracy=0.8746\n",
      "Epoch 30/50: train_loss=1.575060, val_loss=1.600338, val_accuracy=0.8604\n",
      "Epoch 31/50: train_loss=1.574523, val_loss=1.585222, val_accuracy=0.8756\n",
      "Epoch 32/50: train_loss=1.574179, val_loss=1.584065, val_accuracy=0.8769\n",
      "Epoch 33/50: train_loss=1.573815, val_loss=1.588650, val_accuracy=0.8723\n",
      "Epoch 34/50: train_loss=1.575355, val_loss=1.587718, val_accuracy=0.8733\n",
      "Epoch 35/50: train_loss=1.572938, val_loss=1.587228, val_accuracy=0.8737\n",
      "Epoch 36/50: train_loss=1.573372, val_loss=1.604311, val_accuracy=0.8568\n",
      "Epoch 37/50: train_loss=1.577760, val_loss=1.596939, val_accuracy=0.8639\n",
      "Epoch 38/50: train_loss=1.572235, val_loss=1.588543, val_accuracy=0.8725\n",
      "Epoch 39/50: train_loss=1.577959, val_loss=1.592541, val_accuracy=0.8683\n",
      "Epoch 40/50: train_loss=1.571772, val_loss=1.590039, val_accuracy=0.8708\n",
      "Epoch 41/50: train_loss=1.574812, val_loss=1.584791, val_accuracy=0.8758\n",
      "Epoch 42/50: train_loss=1.576750, val_loss=1.585713, val_accuracy=0.8753\n",
      "Epoch 43/50: train_loss=1.575533, val_loss=1.587940, val_accuracy=0.8729\n",
      "Epoch 44/50: train_loss=1.572708, val_loss=1.586483, val_accuracy=0.8745\n",
      "Epoch 45/50: train_loss=1.572719, val_loss=1.586431, val_accuracy=0.8741\n",
      "Epoch 46/50: train_loss=1.572314, val_loss=1.596236, val_accuracy=0.8645\n",
      "Epoch 47/50: train_loss=1.575103, val_loss=1.596357, val_accuracy=0.8643\n",
      "Epoch 48/50: train_loss=1.572064, val_loss=1.589298, val_accuracy=0.8717\n",
      "Epoch 49/50: train_loss=1.570974, val_loss=1.579206, val_accuracy=0.8820\n",
      "Epoch 50/50: train_loss=1.575155, val_loss=1.582430, val_accuracy=0.8784\n"
     ]
    },
    {
     "data": {
      "image/png": "[encoded data removed]",
      "text/plain": [
       "<Figure size 640x480 with 1 Axes>"
      ]
     },
     "metadata": {},
     "output_type": "display_data"
    }
   ],
   "source": [
    "mlp = FashionMLP(hidden_dims=(512, 512)) \n",
    "history = mlp.train(train_loader, val_loader, 50)\n",
    "plot_training(history)"
   ]
  },
  {
   "cell_type": "code",
   "execution_count": 42,
   "metadata": {},
   "outputs": [
    {
     "name": "stdout",
     "output_type": "stream",
     "text": [
      "Prediction: Bag, Truth: Bag\n"
     ]
    },
    {
     "data": {
      "image/png": "[encoded data removed]",
      "text/plain": [
       "<Figure size 640x480 with 1 Axes>"
      ]
     },
     "metadata": {},
     "output_type": "display_data"
    }
   ],
   "source": [
    "# Predict random observation from validation set\n",
    "idx = torch.randint(0, len(val_loader), (1, ))\n",
    "X, y = val_loader.dataset[idx]\n",
    "pred = mlp.predict(X)[0].item()\n",
    "print(f\"Prediction: {class_names[pred]}, Truth: {class_names[y]}\")\n",
    "plt.imshow(torch.squeeze(X, dim=0), cmap=\"gray\");"
   ]
  },
  {
   "attachments": {},
   "cell_type": "markdown",
   "metadata": {},
   "source": [
    "# Convolutional Neural Network"
   ]
  },
  {
   "cell_type": "code",
   "execution_count": 13,
   "metadata": {},
   "outputs": [],
   "source": [
    "# TODO"
   ]
  },
  {
   "attachments": {},
   "cell_type": "markdown",
   "metadata": {},
   "source": [
    "# Vision Transformer"
   ]
  },
  {
   "cell_type": "code",
   "execution_count": 14,
   "metadata": {},
   "outputs": [],
   "source": [
    "# TODO"
   ]
  },
  {
   "attachments": {},
   "cell_type": "markdown",
   "metadata": {},
   "source": [
    "# Summary"
   ]
  },
  {
   "cell_type": "code",
   "execution_count": 15,
   "metadata": {},
   "outputs": [],
   "source": [
    "# TODO"
   ]
  }
 ],
 "metadata": {
  "kernelspec": {
   "display_name": ".venv",
   "language": "python",
   "name": "python3"
  },
  "language_info": {
   "codemirror_mode": {
    "name": "ipython",
    "version": 3
   },
   "file_extension": ".py",
   "mimetype": "text/x-python",
   "name": "python",
   "nbconvert_exporter": "python",
   "pygments_lexer": "ipython3",
   "version": "3.10.9"
  },
  "orig_nbformat": 4,
  "vscode": {
   "interpreter": {
    "hash": "96d6a1854e5bb9b0df2225d36b76873f915131772995a053cfe16e03a428bd14"
   }
  }
 },
 "nbformat": 4,
 "nbformat_minor": 2
}
