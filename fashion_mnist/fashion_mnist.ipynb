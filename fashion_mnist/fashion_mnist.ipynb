{
 "cells": [
  {
   "cell_type": "code",
   "execution_count": 1,
   "metadata": {},
   "outputs": [],
   "source": [
    "import matplotlib.pyplot as plt\n",
    "from matplotlib.ticker import MaxNLocator\n",
    "\n",
    "from torchvision import datasets, transforms\n",
    "\n",
    "from mlp import FashionMLP\n",
    "\n",
    "%matplotlib inline"
   ]
  },
  {
   "attachments": {},
   "cell_type": "markdown",
   "metadata": {},
   "source": [
    "# Helper functions"
   ]
  },
  {
   "cell_type": "code",
   "execution_count": 2,
   "metadata": {},
   "outputs": [],
   "source": [
    "def plot_training(history: dict) -> None:\n",
    "    \"\"\"Plot the training losses.\n",
    "\n",
    "    Args:\n",
    "        history (dict): Dictionary ontaining test and validation loss for each epoch.\n",
    "    \"\"\"\n",
    "    fig, ax = plt.subplots()\n",
    "    ax.plot(history[\"epoch\"], history[\"train_loss\"], label=\"train_loss\")\n",
    "    ax.plot(history[\"epoch\"], history[\"val_loss\"], label=\"val_loss\")\n",
    "\n",
    "    ax.set_title(\"Training\")\n",
    "    ax.set_xlabel(\"Epoch\")\n",
    "    ax.set_ylabel(\"loss\")    \n",
    "    ax.xaxis.set_major_locator(MaxNLocator(integer=True))\n",
    "    \n",
    "    ax.legend()\n",
    "    plt.show()"
   ]
  },
  {
   "attachments": {},
   "cell_type": "markdown",
   "metadata": {},
   "source": [
    "# Download and normalize data"
   ]
  },
  {
   "cell_type": "code",
   "execution_count": 3,
   "metadata": {},
   "outputs": [],
   "source": [
    "transform = transforms.Compose([\n",
    "    transforms.ToTensor(), \n",
    "    transforms.Normalize((0.5,), (0.5,))\n",
    "])"
   ]
  },
  {
   "cell_type": "code",
   "execution_count": 4,
   "metadata": {},
   "outputs": [],
   "source": [
    "# Download train and test set\n",
    "train = datasets.FashionMNIST(\"data\", train=True, download=True, transform=transform)\n",
    "test = datasets.FashionMNIST(\"data\", train=False, download=True, transform=transform)"
   ]
  },
  {
   "cell_type": "code",
   "execution_count": 5,
   "metadata": {},
   "outputs": [],
   "source": [
    "class_names = [\n",
    "    \"T-shirt/top\",\n",
    "    \"Trouser\",\n",
    "    \"Pullover\",\n",
    "    \"Dress\",\n",
    "    \"Coat\",\n",
    "    \"Sandal\",\n",
    "    \"Shirt\",\n",
    "    \"Sneaker\",\n",
    "    \"Bag\",\n",
    "    \"Ankle boot\"\n",
    "]"
   ]
  },
  {
   "attachments": {},
   "cell_type": "markdown",
   "metadata": {},
   "source": [
    "# Multi Layer Perceptron"
   ]
  },
  {
   "cell_type": "code",
   "execution_count": 6,
   "metadata": {},
   "outputs": [
    {
     "name": "stdout",
     "output_type": "stream",
     "text": [
      "Epoch  1/50: train_loss=1.710079, train_acc=0.7642, val_loss=1.643658, val_acc=0.8190\n",
      "Epoch  2/50: train_loss=1.632699, train_acc=0.8312, val_loss=1.630458, val_acc=0.8314\n",
      "Epoch  3/50: train_loss=1.618124, train_acc=0.8444, val_loss=1.634039, val_acc=0.8265\n",
      "Epoch  4/50: train_loss=1.611405, train_acc=0.8506, val_loss=1.609291, val_acc=0.8521\n",
      "Epoch  5/50: train_loss=1.603591, train_acc=0.8586, val_loss=1.613636, val_acc=0.8487\n",
      "Epoch  6/50: train_loss=1.597892, train_acc=0.8640, val_loss=1.614756, val_acc=0.8456\n",
      "Epoch  7/50: train_loss=1.593792, train_acc=0.8679, val_loss=1.594329, val_acc=0.8668\n",
      "Epoch  8/50: train_loss=1.588803, train_acc=0.8727, val_loss=1.602503, val_acc=0.8597\n",
      "Epoch  9/50: train_loss=1.587080, train_acc=0.8749, val_loss=1.594910, val_acc=0.8668\n",
      "Epoch 10/50: train_loss=1.584176, train_acc=0.8771, val_loss=1.592763, val_acc=0.8680\n",
      "Epoch 11/50: train_loss=1.579945, train_acc=0.8812, val_loss=1.598111, val_acc=0.8627\n",
      "Epoch 12/50: train_loss=1.579886, train_acc=0.8819, val_loss=1.597946, val_acc=0.8635\n",
      "Epoch 13/50: train_loss=1.576746, train_acc=0.8844, val_loss=1.585570, val_acc=0.8750\n",
      "Epoch 14/50: train_loss=1.574812, train_acc=0.8867, val_loss=1.596614, val_acc=0.8639\n",
      "Epoch 15/50: train_loss=1.572691, train_acc=0.8888, val_loss=1.587989, val_acc=0.8721\n",
      "Epoch 16/50: train_loss=1.571133, train_acc=0.8899, val_loss=1.589413, val_acc=0.8726\n",
      "Epoch 17/50: train_loss=1.570112, train_acc=0.8907, val_loss=1.582265, val_acc=0.8781\n",
      "Epoch 18/50: train_loss=1.571221, train_acc=0.8899, val_loss=1.582736, val_acc=0.8783\n",
      "Epoch 19/50: train_loss=1.568774, train_acc=0.8921, val_loss=1.587424, val_acc=0.8727\n",
      "Epoch 20/50: train_loss=1.566312, train_acc=0.8947, val_loss=1.582977, val_acc=0.8785\n",
      "Epoch 21/50: train_loss=1.565416, train_acc=0.8957, val_loss=1.582240, val_acc=0.8776\n",
      "Epoch 22/50: train_loss=1.563832, train_acc=0.8973, val_loss=1.581362, val_acc=0.8793\n",
      "Epoch 23/50: train_loss=1.563996, train_acc=0.8972, val_loss=1.583775, val_acc=0.8764\n",
      "Epoch 24/50: train_loss=1.563840, train_acc=0.8966, val_loss=1.580466, val_acc=0.8801\n",
      "Epoch 25/50: train_loss=1.560061, train_acc=0.9014, val_loss=1.583690, val_acc=0.8766\n",
      "Epoch 26/50: train_loss=1.560961, train_acc=0.9003, val_loss=1.578749, val_acc=0.8822\n",
      "Epoch 27/50: train_loss=1.559531, train_acc=0.9017, val_loss=1.583909, val_acc=0.8760\n",
      "Epoch 28/50: train_loss=1.559237, train_acc=0.9017, val_loss=1.581669, val_acc=0.8790\n",
      "Epoch 29/50: train_loss=1.557337, train_acc=0.9039, val_loss=1.580404, val_acc=0.8798\n",
      "Epoch 30/50: train_loss=1.557083, train_acc=0.9041, val_loss=1.580067, val_acc=0.8810\n",
      "Epoch 31/50: train_loss=1.557916, train_acc=0.9032, val_loss=1.583114, val_acc=0.8775\n",
      "Epoch 32/50: train_loss=1.556224, train_acc=0.9051, val_loss=1.582828, val_acc=0.8778\n",
      "Epoch 33/50: train_loss=1.554339, train_acc=0.9071, val_loss=1.581264, val_acc=0.8795\n",
      "Epoch 34/50: train_loss=1.553052, train_acc=0.9080, val_loss=1.580583, val_acc=0.8796\n",
      "Epoch 35/50: train_loss=1.554163, train_acc=0.9070, val_loss=1.575536, val_acc=0.8853\n",
      "Epoch 36/50: train_loss=1.553142, train_acc=0.9079, val_loss=1.577606, val_acc=0.8836\n",
      "Epoch 37/50: train_loss=1.552491, train_acc=0.9084, val_loss=1.588096, val_acc=0.8731\n",
      "Epoch 38/50: train_loss=1.551113, train_acc=0.9098, val_loss=1.585165, val_acc=0.8754\n",
      "Epoch 39/50: train_loss=1.550570, train_acc=0.9104, val_loss=1.583144, val_acc=0.8771\n",
      "Epoch 40/50: train_loss=1.551415, train_acc=0.9095, val_loss=1.579756, val_acc=0.8809\n",
      "Epoch 41/50: train_loss=1.551312, train_acc=0.9099, val_loss=1.575987, val_acc=0.8852\n",
      "Epoch 42/50: train_loss=1.549246, train_acc=0.9116, val_loss=1.578956, val_acc=0.8820\n",
      "Epoch 43/50: train_loss=1.549338, train_acc=0.9117, val_loss=1.582189, val_acc=0.8791\n",
      "Epoch 44/50: train_loss=1.550360, train_acc=0.9107, val_loss=1.573852, val_acc=0.8872\n",
      "Epoch 45/50: train_loss=1.547185, train_acc=0.9136, val_loss=1.577250, val_acc=0.8832\n",
      "Epoch 46/50: train_loss=1.548810, train_acc=0.9121, val_loss=1.576456, val_acc=0.8840\n",
      "Epoch 47/50: train_loss=1.550330, train_acc=0.9108, val_loss=1.572438, val_acc=0.8882\n",
      "Epoch 48/50: train_loss=1.545909, train_acc=0.9151, val_loss=1.576177, val_acc=0.8844\n",
      "Epoch 49/50: train_loss=1.547816, train_acc=0.9131, val_loss=1.577386, val_acc=0.8830\n",
      "Epoch 50/50: train_loss=1.547258, train_acc=0.9138, val_loss=1.573866, val_acc=0.8859\n"
     ]
    },
    {
     "data": {
      "image/png": "[encoded data removed]",
      "text/plain": [
       "<Figure size 640x480 with 1 Axes>"
      ]
     },
     "metadata": {},
     "output_type": "display_data"
    }
   ],
   "source": [
    "mlp = FashionMLP(hidden_dims=(128, 128)) \n",
    "history = mlp.train(train, epochs=50, val_split=0.2)\n",
    "plot_training(history)"
   ]
  },
  {
   "attachments": {},
   "cell_type": "markdown",
   "metadata": {},
   "source": [
    "# Convolutional Neural Network"
   ]
  },
  {
   "cell_type": "code",
   "execution_count": 7,
   "metadata": {},
   "outputs": [],
   "source": [
    "# TODO"
   ]
  },
  {
   "attachments": {},
   "cell_type": "markdown",
   "metadata": {},
   "source": [
    "# Vision Transformer"
   ]
  },
  {
   "cell_type": "code",
   "execution_count": 8,
   "metadata": {},
   "outputs": [],
   "source": [
    "# TODO"
   ]
  },
  {
   "attachments": {},
   "cell_type": "markdown",
   "metadata": {},
   "source": [
    "# Summary"
   ]
  },
  {
   "cell_type": "code",
   "execution_count": 9,
   "metadata": {},
   "outputs": [],
   "source": [
    "# TODO"
   ]
  }
 ],
 "metadata": {
  "kernelspec": {
   "display_name": ".venv",
   "language": "python",
   "name": "python3"
  },
  "language_info": {
   "codemirror_mode": {
    "name": "ipython",
    "version": 3
   },
   "file_extension": ".py",
   "mimetype": "text/x-python",
   "name": "python",
   "nbconvert_exporter": "python",
   "pygments_lexer": "ipython3",
   "version": "3.10.9"
  },
  "orig_nbformat": 4,
  "vscode": {
   "interpreter": {
    "hash": "96d6a1854e5bb9b0df2225d36b76873f915131772995a053cfe16e03a428bd14"
   }
  }
 },
 "nbformat": 4,
 "nbformat_minor": 2
}
